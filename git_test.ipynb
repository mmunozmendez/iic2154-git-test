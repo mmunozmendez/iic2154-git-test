{
  "cells": [
    {
      "cell_type": "markdown",
      "source": [
        "### Macarena Muñoz Méndez"
      ],
      "metadata": {
        "id": "BEJQknmKCCl9"
      }
    },
    {
      "cell_type": "markdown",
      "metadata": {
        "id": "-aQy1wVAUtkp"
      },
      "source": [
        "Preprocesing"
      ]
    },
    {
      "cell_type": "code",
      "execution_count": 1,
      "metadata": {
        "id": "88mKZdkJIQ6e"
      },
      "outputs": [],
      "source": [
        "import pandas as pd\n",
        "import json\n",
        "from pandas.io.json import json_normalize"
      ]
    },
    {
      "cell_type": "code",
      "execution_count": 2,
      "metadata": {
        "colab": {
          "base_uri": "https://localhost:8080/"
        },
        "id": "p-KgfZ3JU98H",
        "outputId": "3d977112-1d93-43a8-9cc7-6351ae43ba20"
      },
      "outputs": [
        {
          "output_type": "stream",
          "name": "stdout",
          "text": [
            "Drive already mounted at /content/drive/; to attempt to forcibly remount, call drive.mount(\"/content/drive/\", force_remount=True).\n"
          ]
        }
      ],
      "source": [
        "from google.colab import drive\n",
        "drive.mount('/content/drive/')"
      ]
    },
    {
      "cell_type": "code",
      "execution_count": 3,
      "metadata": {
        "id": "938VS9DGUbti"
      },
      "outputs": [],
      "source": [
        "raw_data = pd.read_json(open(\"drive/MyDrive/farmers-protest-tweets-2021-03-5.json\", \"r\", encoding=\"utf8\"),lines=True)"
      ]
    },
    {
      "cell_type": "code",
      "execution_count": null,
      "metadata": {
        "id": "As0-Xv8jVyRZ"
      },
      "outputs": [],
      "source": [
        "raw_data.drop(['url', 'outlinks', 'tcooutlinks', 'replyCount', 'quoteCount', 'likeCount', 'lang', 'quotedTweet', 'conversationId', 'source', 'sourceUrl', 'sourceLabel', 'media', 'retweetedTweet', 'mentionedUsers'], axis=1, inplace=True)"
      ]
    },
    {
      "cell_type": "code",
      "source": [
        "users = json_normalize(raw_data['user'])"
      ],
      "metadata": {
        "id": "8eBHpjSl3C_X"
      },
      "execution_count": null,
      "outputs": []
    },
    {
      "cell_type": "code",
      "source": [
        "raw_data['username'] = users['username']"
      ],
      "metadata": {
        "id": "lK3KZyjd6-US"
      },
      "execution_count": 10,
      "outputs": []
    },
    {
      "cell_type": "code",
      "source": [
        "raw_data.drop(['user'], axis=1, inplace=True)"
      ],
      "metadata": {
        "id": "eMN05LEQ7H50"
      },
      "execution_count": 12,
      "outputs": []
    },
    {
      "cell_type": "code",
      "source": [
        "date = raw_data['date'].apply(lambda x : x.date())"
      ],
      "metadata": {
        "id": "9JVKfMch8LZ4"
      },
      "execution_count": 15,
      "outputs": []
    },
    {
      "cell_type": "code",
      "source": [
        "raw_data.drop(['date'], axis=1, inplace=True)\n",
        "raw_data['date'] = date"
      ],
      "metadata": {
        "id": "MtpP9TS48fET"
      },
      "execution_count": 16,
      "outputs": []
    },
    {
      "cell_type": "code",
      "source": [
        "raw_data.to_json('drive/MyDrive/farmers_procesed.json')"
      ],
      "metadata": {
        "id": "fvbBPSmY8qNU"
      },
      "execution_count": 19,
      "outputs": []
    },
    {
      "cell_type": "code",
      "source": [
        "raw_data.head()"
      ],
      "metadata": {
        "colab": {
          "base_uri": "https://localhost:8080/",
          "height": 337
        },
        "id": "Xu1FRSUQCVx8",
        "outputId": "3f9dec73-d28d-45a7-a626-74746d64cc3f"
      },
      "execution_count": 84,
      "outputs": [
        {
          "output_type": "execute_result",
          "data": {
            "text/plain": [
              "                                             content  \\\n",
              "0                       Support 👇\\n\\n#FarmersProtest   \n",
              "1  Supporting farmers means supporting our countr...   \n",
              "2  Support farmers if you are related to food #St...   \n",
              "3  #StopHateAgainstFarmers support #FarmersProtes...   \n",
              "4  You hate farmers I hate you, \\nif you love the...   \n",
              "\n",
              "                                     renderedContent                   id  \\\n",
              "0                       Support 👇\\n\\n#FarmersProtest  1376739399593910273   \n",
              "1  Supporting farmers means supporting our countr...  1376739306287427584   \n",
              "2  Support farmers if you are related to food #St...  1376738704128020488   \n",
              "3  #StopHateAgainstFarmers support #FarmersProtes...  1376738640542400518   \n",
              "4  You hate farmers I hate you, \\nif you love the...  1376738579171344386   \n",
              "\n",
              "   retweetCount         username        date  \n",
              "0             0   ShashiRajbhar6  2021-03-30  \n",
              "1             0  kaursuk06272818  2021-03-30  \n",
              "2             0  kaursuk06272818  2021-03-30  \n",
              "3             1    SukhdevSingh_  2021-03-30  \n",
              "4             0  Davidmu66668113  2021-03-30  "
            ],
            "text/html": [
              "\n",
              "  <div id=\"df-423785e4-2923-491a-9af3-d7234f864021\">\n",
              "    <div class=\"colab-df-container\">\n",
              "      <div>\n",
              "<style scoped>\n",
              "    .dataframe tbody tr th:only-of-type {\n",
              "        vertical-align: middle;\n",
              "    }\n",
              "\n",
              "    .dataframe tbody tr th {\n",
              "        vertical-align: top;\n",
              "    }\n",
              "\n",
              "    .dataframe thead th {\n",
              "        text-align: right;\n",
              "    }\n",
              "</style>\n",
              "<table border=\"1\" class=\"dataframe\">\n",
              "  <thead>\n",
              "    <tr style=\"text-align: right;\">\n",
              "      <th></th>\n",
              "      <th>content</th>\n",
              "      <th>renderedContent</th>\n",
              "      <th>id</th>\n",
              "      <th>retweetCount</th>\n",
              "      <th>username</th>\n",
              "      <th>date</th>\n",
              "    </tr>\n",
              "  </thead>\n",
              "  <tbody>\n",
              "    <tr>\n",
              "      <th>0</th>\n",
              "      <td>Support 👇\\n\\n#FarmersProtest</td>\n",
              "      <td>Support 👇\\n\\n#FarmersProtest</td>\n",
              "      <td>1376739399593910273</td>\n",
              "      <td>0</td>\n",
              "      <td>ShashiRajbhar6</td>\n",
              "      <td>2021-03-30</td>\n",
              "    </tr>\n",
              "    <tr>\n",
              "      <th>1</th>\n",
              "      <td>Supporting farmers means supporting our countr...</td>\n",
              "      <td>Supporting farmers means supporting our countr...</td>\n",
              "      <td>1376739306287427584</td>\n",
              "      <td>0</td>\n",
              "      <td>kaursuk06272818</td>\n",
              "      <td>2021-03-30</td>\n",
              "    </tr>\n",
              "    <tr>\n",
              "      <th>2</th>\n",
              "      <td>Support farmers if you are related to food #St...</td>\n",
              "      <td>Support farmers if you are related to food #St...</td>\n",
              "      <td>1376738704128020488</td>\n",
              "      <td>0</td>\n",
              "      <td>kaursuk06272818</td>\n",
              "      <td>2021-03-30</td>\n",
              "    </tr>\n",
              "    <tr>\n",
              "      <th>3</th>\n",
              "      <td>#StopHateAgainstFarmers support #FarmersProtes...</td>\n",
              "      <td>#StopHateAgainstFarmers support #FarmersProtes...</td>\n",
              "      <td>1376738640542400518</td>\n",
              "      <td>1</td>\n",
              "      <td>SukhdevSingh_</td>\n",
              "      <td>2021-03-30</td>\n",
              "    </tr>\n",
              "    <tr>\n",
              "      <th>4</th>\n",
              "      <td>You hate farmers I hate you, \\nif you love the...</td>\n",
              "      <td>You hate farmers I hate you, \\nif you love the...</td>\n",
              "      <td>1376738579171344386</td>\n",
              "      <td>0</td>\n",
              "      <td>Davidmu66668113</td>\n",
              "      <td>2021-03-30</td>\n",
              "    </tr>\n",
              "  </tbody>\n",
              "</table>\n",
              "</div>\n",
              "      <button class=\"colab-df-convert\" onclick=\"convertToInteractive('df-423785e4-2923-491a-9af3-d7234f864021')\"\n",
              "              title=\"Convert this dataframe to an interactive table.\"\n",
              "              style=\"display:none;\">\n",
              "        \n",
              "  <svg xmlns=\"http://www.w3.org/2000/svg\" height=\"24px\"viewBox=\"0 0 24 24\"\n",
              "       width=\"24px\">\n",
              "    <path d=\"M0 0h24v24H0V0z\" fill=\"none\"/>\n",
              "    <path d=\"M18.56 5.44l.94 2.06.94-2.06 2.06-.94-2.06-.94-.94-2.06-.94 2.06-2.06.94zm-11 1L8.5 8.5l.94-2.06 2.06-.94-2.06-.94L8.5 2.5l-.94 2.06-2.06.94zm10 10l.94 2.06.94-2.06 2.06-.94-2.06-.94-.94-2.06-.94 2.06-2.06.94z\"/><path d=\"M17.41 7.96l-1.37-1.37c-.4-.4-.92-.59-1.43-.59-.52 0-1.04.2-1.43.59L10.3 9.45l-7.72 7.72c-.78.78-.78 2.05 0 2.83L4 21.41c.39.39.9.59 1.41.59.51 0 1.02-.2 1.41-.59l7.78-7.78 2.81-2.81c.8-.78.8-2.07 0-2.86zM5.41 20L4 18.59l7.72-7.72 1.47 1.35L5.41 20z\"/>\n",
              "  </svg>\n",
              "      </button>\n",
              "      \n",
              "  <style>\n",
              "    .colab-df-container {\n",
              "      display:flex;\n",
              "      flex-wrap:wrap;\n",
              "      gap: 12px;\n",
              "    }\n",
              "\n",
              "    .colab-df-convert {\n",
              "      background-color: #E8F0FE;\n",
              "      border: none;\n",
              "      border-radius: 50%;\n",
              "      cursor: pointer;\n",
              "      display: none;\n",
              "      fill: #1967D2;\n",
              "      height: 32px;\n",
              "      padding: 0 0 0 0;\n",
              "      width: 32px;\n",
              "    }\n",
              "\n",
              "    .colab-df-convert:hover {\n",
              "      background-color: #E2EBFA;\n",
              "      box-shadow: 0px 1px 2px rgba(60, 64, 67, 0.3), 0px 1px 3px 1px rgba(60, 64, 67, 0.15);\n",
              "      fill: #174EA6;\n",
              "    }\n",
              "\n",
              "    [theme=dark] .colab-df-convert {\n",
              "      background-color: #3B4455;\n",
              "      fill: #D2E3FC;\n",
              "    }\n",
              "\n",
              "    [theme=dark] .colab-df-convert:hover {\n",
              "      background-color: #434B5C;\n",
              "      box-shadow: 0px 1px 3px 1px rgba(0, 0, 0, 0.15);\n",
              "      filter: drop-shadow(0px 1px 2px rgba(0, 0, 0, 0.3));\n",
              "      fill: #FFFFFF;\n",
              "    }\n",
              "  </style>\n",
              "\n",
              "      <script>\n",
              "        const buttonEl =\n",
              "          document.querySelector('#df-423785e4-2923-491a-9af3-d7234f864021 button.colab-df-convert');\n",
              "        buttonEl.style.display =\n",
              "          google.colab.kernel.accessAllowed ? 'block' : 'none';\n",
              "\n",
              "        async function convertToInteractive(key) {\n",
              "          const element = document.querySelector('#df-423785e4-2923-491a-9af3-d7234f864021');\n",
              "          const dataTable =\n",
              "            await google.colab.kernel.invokeFunction('convertToInteractive',\n",
              "                                                     [key], {});\n",
              "          if (!dataTable) return;\n",
              "\n",
              "          const docLinkHtml = 'Like what you see? Visit the ' +\n",
              "            '<a target=\"_blank\" href=https://colab.research.google.com/notebooks/data_table.ipynb>data table notebook</a>'\n",
              "            + ' to learn more about interactive tables.';\n",
              "          element.innerHTML = '';\n",
              "          dataTable['output_type'] = 'display_data';\n",
              "          await google.colab.output.renderOutput(dataTable, element);\n",
              "          const docLink = document.createElement('div');\n",
              "          docLink.innerHTML = docLinkHtml;\n",
              "          element.appendChild(docLink);\n",
              "        }\n",
              "      </script>\n",
              "    </div>\n",
              "  </div>\n",
              "  "
            ]
          },
          "metadata": {},
          "execution_count": 84
        }
      ]
    },
    {
      "cell_type": "markdown",
      "source": [
        "Functions"
      ],
      "metadata": {
        "id": "AJ71D7E59P6l"
      }
    },
    {
      "cell_type": "code",
      "execution_count": 78,
      "metadata": {
        "id": "zGtTC6EPQw1j"
      },
      "outputs": [],
      "source": [
        "def more_retweeted(data):\n",
        "  top_retweeted = data.sort_values(by = 'retweetCount', ascending = False)[0:10]\n",
        "  print('10 tweets more retweeted\\n')\n",
        "  for user in top_retweeted.itertuples():\n",
        "    print('(', user[4], ')', user[1])\n",
        "    print('-')\n",
        "  print('-' * 50)"
      ]
    },
    {
      "cell_type": "code",
      "execution_count": 79,
      "metadata": {
        "id": "hfbn_4BNXPvy"
      },
      "outputs": [],
      "source": [
        "def more_tweets(data):\n",
        "  grouped_by_user = data.groupby(['username']).count()\n",
        "  top_users = grouped_by_user.sort_values(by = 'content', ascending = False)[0:10]\n",
        "  print('10 users with more tweets\\n')\n",
        "  for user in top_users.itertuples():\n",
        "    print('username:', user[0], '(', user[1], ')')\n",
        "  print('-' * 50)"
      ]
    },
    {
      "cell_type": "code",
      "execution_count": 80,
      "metadata": {
        "id": "iKz7zYaHs9ci"
      },
      "outputs": [],
      "source": [
        "def days_more_tweets(data):\n",
        "  grouped_by_user = data.groupby(['date']).count()\n",
        "  top_users = grouped_by_user.sort_values(by = 'content', ascending = False)[0:10]\n",
        "  print('10 days with more tweets\\n')\n",
        "  for user in top_users.itertuples():\n",
        "    print('date:', user[0], '(', user[1], ')')\n",
        "  print('-' * 50)"
      ]
    },
    {
      "cell_type": "code",
      "execution_count": 81,
      "metadata": {
        "id": "6TVwXR5etLY7"
      },
      "outputs": [],
      "source": [
        "def hashtags_more_used(data):\n",
        "  print('TODO: implement hashtag_more_used')\n",
        "  print('-' * 50)"
      ]
    },
    {
      "cell_type": "markdown",
      "metadata": {
        "id": "dhvCd7L5s6sA"
      },
      "source": [
        "Main"
      ]
    },
    {
      "cell_type": "code",
      "execution_count": 82,
      "metadata": {
        "id": "FBV52jgAahV4"
      },
      "outputs": [],
      "source": [
        "def main(file):\n",
        "  data = pd.read_json(file)\n",
        "  more_retweeted(data)\n",
        "  more_tweets(data)\n",
        "  days_more_tweets(data)\n",
        "  hashtags_more_used(data)"
      ]
    },
    {
      "cell_type": "code",
      "execution_count": 83,
      "metadata": {
        "id": "eHuxWlvvcwsz",
        "colab": {
          "base_uri": "https://localhost:8080/"
        },
        "outputId": "f0ffc907-92bb-4797-9ca0-0d25d36fd03f"
      },
      "outputs": [
        {
          "output_type": "stream",
          "name": "stdout",
          "text": [
            "10 tweets more retweeted\n",
            "\n",
            "( 315547 ) why aren’t we talking about this?! #FarmersProtest https://t.co/obmIlXhK9S\n",
            "-\n",
            "( 103957 ) We stand in solidarity with the #FarmersProtest in India.\n",
            " https://t.co/tqvR0oHgo0\n",
            "-\n",
            "( 67694 ) I still #StandWithFarmers and support their peaceful protest.\n",
            "No amount of hate, threats or violations of human rights will ever change that. #FarmersProtest\n",
            "-\n",
            "( 35921 ) “Paid actors,” huh? Quite the casting director, I hope they’re not overlooked during awards season. I stand with the farmers. #FarmersProtest https://t.co/moONj03tN0\n",
            "-\n",
            "( 26972 ) What in the human rights violations is going on?! They cut the internet around New Delhi?! #FarmersProtest https://t.co/a5ml1P2ikU\n",
            "-\n",
            "( 23251 ) Happy to share that I’ve donated $10,000 to provide medical assistance to the farmers in need in India to help save lives during these times. I hope we can prevent any additional life from being lost. 🙏🏾 #FarmersProtest https://t.co/0WoEw0l3ij\n",
            "-\n",
            "( 20132 ) There has been much social media coverage around the #FarmersProtest in #India. Very useful guide to the legislation and the impact on farmers. 1/2 https://t.co/3CsdgBebdZ\n",
            "-\n",
            "( 18744 ) Farmers feed the world. Fight for them. Protect them #FarmersProtest\n",
            "-\n",
            "( 17368 ) Should be talking about this! #FarmersProtest\n",
            "\n",
            "https://t.co/Xh09iTvVoF\n",
            "-\n",
            "( 15677 ) To all of my influencer/celeb friends- read up on this   #FarmersProtest 👀\n",
            "-\n",
            "--------------------------------------------------\n",
            "10 users with more tweets\n",
            "\n",
            "username: harjot_tweeting ( 7134 )\n",
            "username: tasveersandhu ( 2091 )\n",
            "username: shells_n_petals ( 1991 )\n",
            "username: jot__b ( 1841 )\n",
            "username: rebelpacifist ( 1806 )\n",
            "username: rumsomal ( 1722 )\n",
            "username: Iamjazzie96 ( 1502 )\n",
            "username: Jass_k_G ( 1460 )\n",
            "username: DigitalKisanBot ( 1453 )\n",
            "username: z_khalique007 ( 1446 )\n",
            "--------------------------------------------------\n",
            "10 days with more tweets\n",
            "\n",
            "date: 2021-02-03 00:00:00 ( 83866 )\n",
            "date: 2021-02-04 00:00:00 ( 58607 )\n",
            "date: 2021-02-05 00:00:00 ( 33332 )\n",
            "date: 2021-02-02 00:00:00 ( 28548 )\n",
            "date: 2021-02-06 00:00:00 ( 22420 )\n",
            "date: 2021-02-07 00:00:00 ( 11325 )\n",
            "date: 2021-02-09 00:00:00 ( 9320 )\n",
            "date: 2021-02-08 00:00:00 ( 8920 )\n",
            "date: 2021-02-10 00:00:00 ( 7973 )\n",
            "date: 2021-02-11 00:00:00 ( 5698 )\n",
            "--------------------------------------------------\n",
            "TODO: implement hashtag_more_used\n",
            "--------------------------------------------------\n"
          ]
        }
      ],
      "source": [
        "main('drive/MyDrive/farmers_procesed.json')"
      ]
    },
    {
      "cell_type": "code",
      "source": [
        ""
      ],
      "metadata": {
        "id": "v6dEPF-GBRsc"
      },
      "execution_count": null,
      "outputs": []
    }
  ],
  "metadata": {
    "colab": {
      "name": "git_test.ipynb",
      "provenance": []
    },
    "kernelspec": {
      "display_name": "Python 3",
      "name": "python3"
    },
    "language_info": {
      "name": "python"
    }
  },
  "nbformat": 4,
  "nbformat_minor": 0
}